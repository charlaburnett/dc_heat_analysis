{
  "cells": [
    {
      "cell_type": "markdown",
      "metadata": {
        "id": "view-in-github",
        "colab_type": "text"
      },
      "source": [
        "<a href=\"https://colab.research.google.com/github/charlaburnett/dc_heat_analysis/blob/main/dc_heat_analysis.ipynb\" target=\"_parent\"><img src=\"https://colab.research.google.com/assets/colab-badge.svg\" alt=\"Open In Colab\"/></a>"
      ]
    },
    {
      "cell_type": "code",
      "source": [
        "from google.colab import drive\n",
        "drive.mount('/content/drive')\n"
      ],
      "metadata": {
        "id": "my0CtjC6qBQN"
      },
      "id": "my0CtjC6qBQN",
      "execution_count": null,
      "outputs": []
    },
    {
      "cell_type": "code",
      "execution_count": null,
      "id": "44685dd7-de4f-404a-8dc6-c2240cb094ee",
      "metadata": {
        "id": "44685dd7-de4f-404a-8dc6-c2240cb094ee"
      },
      "outputs": [],
      "source": [
        "import numpy as np\n",
        "import rasterio\n",
        "\n",
        "def calculate_lst_dual(tif_path):\n",
        "    with rasterio.open(tif_path) as src:\n",
        "        lst_dn = src.read(1).astype(\"float32\")\n",
        "        profile = src.profile\n",
        "\n",
        "        lst_dn = np.where(lst_dn > 0, lst_dn, np.nan)\n",
        "\n",
        "\n",
        "        lst_kelvin = (lst_dn * 0.00341802) + 149.0\n",
        "        lst_celsius = lst_kelvin - 273.15\n",
        "        lst_fahrenheit = (lst_celsius * 9 / 5) + 32\n",
        "\n",
        "    return lst_celsius, lst_fahrenheit, profile\n",
        "\n",
        "\n",
        "# 2015\n",
        "lst_c_2015, lst_f_2015, prof_2015 = calculate_lst_dual(\n",
        "    \"/content/drive/MyDrive/Colab Notebooks/dc-urban-heat/LC08_L2SP_015033_20150614_20201015_02_T1_ST_B10.TIF\"\n",
        ")\n",
        "\n",
        "# 2025\n",
        "lst_c_2025, lst_f_2025, prof_2025 = calculate_lst_dual(\n",
        "    \"/content/drive/MyDrive/Colab Notebooks/dc-urban-heat/LC08_L2SP_015033_20250625_20250701_02_T1_ST_B10.TIF\"\n",
        ")\n",
        "\n"
      ]
    },
    {
      "cell_type": "code",
      "execution_count": null,
      "id": "dc463875-32ba-46db-96a8-deaaa8a4a6bf",
      "metadata": {
        "id": "dc463875-32ba-46db-96a8-deaaa8a4a6bf"
      },
      "outputs": [],
      "source": [
        "#def save_lst(output_path, data, profile):\n",
        "    #profile.update(dtype=\"float32\", count=1)\n",
        "    #with rasterio.open(output_path, \"w\", **profile) as dst:\n",
        "        #dst.write(data, 1)\n",
        "\n",
        "#save_lst(\"/content/drive/MyDrive/Colab Notebooks/dc-urban-heat/\", lst_c_2015, prof_2015)\n",
        "#save_lst(\"/content/drive/MyDrive/Colab Notebooks/dc-urban-heat/\", lst_f_2015, prof_2015)\n",
        "#save_lst(\"/content/drive/MyDrive/Colab Notebooks/dc-urban-heat/\", lst_c_2025, prof_2025)\n",
        "#save_lst(\"/content/drive/MyDrive/Colab Notebooks/dc-urban-heat/\", lst_f_2025, prof_2025)\n"
      ]
    },
    {
      "cell_type": "code",
      "execution_count": null,
      "id": "0ec706c7-0335-440a-b7a3-ca1f563b0fc0",
      "metadata": {
        "id": "0ec706c7-0335-440a-b7a3-ca1f563b0fc0"
      },
      "outputs": [],
      "source": [
        "import rasterio\n",
        "from rasterio.features import shapes\n",
        "import geopandas as gpd\n",
        "\n",
        "dc_clipped = \"/content/drive/MyDrive/Colab Notebooks/dc-urban-heat/nlcd_2024_dc_clipped.tif\"\n",
        "\n",
        "with rasterio.open(dc_clipped) as src:\n",
        "    band = src.read(1)\n",
        "    mask = band != src.nodata\n",
        "\n",
        "    results = (\n",
        "        {\"properties\": {\"nlcd_code\": int(v)}, \"geometry\": s}\n",
        "        for s, v in shapes(band, mask=mask, transform=src.transform)\n",
        "    )\n",
        "\n",
        "    gdf = gpd.GeoDataFrame.from_features(list(results), crs=src.crs)\n",
        "\n",
        "def classify_uhi(code):\n",
        "    if code in [21, 22, 23, 24]:\n",
        "        return \"Urban\"\n",
        "    elif code in [41, 42, 43, 52]:\n",
        "        return \"Vegetation\"\n",
        "    elif code == 11:\n",
        "        return \"Water\"\n",
        "    else:\n",
        "        return \"Other\"\n",
        "\n",
        "gdf[\"uhi_class\"] = gdf[\"nlcd_code\"].apply(classify_uhi)\n",
        "\n",
        "output_path = \"/content/drive/MyDrive/Colab Notebooks/dc-urban-heat/uhi_landcover_polygons.shp\"\n",
        "gdf.to_file(output_path)\n",
        "\n",
        "print(f\"Saved classified land cover shapefile to:\\n{output_path}\")\n"
      ]
    },
    {
      "cell_type": "code",
      "execution_count": null,
      "id": "6c285964-1ee1-474c-9a5a-efd58549ec66",
      "metadata": {
        "id": "6c285964-1ee1-474c-9a5a-efd58549ec66"
      },
      "outputs": [],
      "source": [
        "from rasterstats import zonal_stats\n",
        "import geopandas as gpd\n",
        "import rasterio\n",
        "\n",
        "# Load your land cover classification polygons\n",
        "landcover_gdf = gpd.read_file(\"/content/drive/MyDrive/Colab Notebooks/dc-urban-heat/uhi_landcover_polygons.shp\")\n",
        "\n",
        "# Reproject to match the LST raster's CRS\n",
        "with rasterio.open(\"/content/drive/MyDrive/Colab Notebooks/dc-urban-heat/lst_2015_celsius.tif\") as src_2015:\n",
        "    landcover_2015 = landcover_gdf.to_crs(src_2015.crs)\n",
        "\n",
        "# Zonal statistics\n",
        "stats_2015 = zonal_stats(\n",
        "    vectors=landcover_2015,\n",
        "    raster=\"/content/drive/MyDrive/Colab Notebooks/dc-urban-heat/lst_2015_celsius.tif\",\n",
        "    stats=[\"mean\"],\n",
        "    geojson_out=True\n",
        ")\n",
        "\n",
        "# Convert to GeoDataFrame\n",
        "gdf_2015 = gpd.GeoDataFrame.from_features(stats_2015)\n",
        "gdf_2015.set_crs(src_2015.crs, inplace=True)\n",
        "\n",
        "# Save output\n",
        "gdf_2015.to_file(\"/content/drive/MyDrive/Colab Notebooks/dc-urban-heat/uhi_temp_stats_2015.shp\")\n",
        "print(\"✅ Saved 2015 zonal stats shapefile.\")\n"
      ]
    },
    {
      "cell_type": "code",
      "execution_count": null,
      "id": "49c10a56-c924-4740-8170-30222dbb089a",
      "metadata": {
        "id": "49c10a56-c924-4740-8170-30222dbb089a"
      },
      "outputs": [],
      "source": [
        "# Reproject polygons to match 2025 raster CRS\n",
        "with rasterio.open(\"/content/drive/MyDrive/Colab Notebooks/dc-urban-heat/lst_2015_celsius.tif\") as src_2025:\n",
        "    landcover_2025 = landcover_gdf.to_crs(src_2025.crs)\n",
        "\n",
        "# Zonal stats for 2025\n",
        "stats_2025 = zonal_stats(\n",
        "    vectors=landcover_2025,\n",
        "    raster=\"/content/drive/MyDrive/Colab Notebooks/dc-urban-heat/lst_2025_celsius.tif\",\n",
        "    stats=[\"mean\"],\n",
        "    geojson_out=True\n",
        ")\n",
        "\n",
        "# Convert to GeoDataFrame\n",
        "gdf_2025 = gpd.GeoDataFrame.from_features(stats_2025)\n",
        "gdf_2025.set_crs(src_2025.crs, inplace=True)\n",
        "gdf_2025.to_file(\"/content/drive/MyDrive/Colab Notebooks/dc-urban-heat/uhi_temp_stats_2025.shp\")\n",
        "print(\"✅ Saved 2025 zonal stats shapefile.\")\n"
      ]
    },
    {
      "cell_type": "code",
      "execution_count": null,
      "id": "3b1f30ef-54af-4ebf-8392-66d90ad69932",
      "metadata": {
        "id": "3b1f30ef-54af-4ebf-8392-66d90ad69932"
      },
      "outputs": [],
      "source": [
        "# Load both years' stats\n",
        "gdf_2015 = gpd.read_file(\"/content/drive/MyDrive/Colab Notebooks/dc-urban-heat/uhi_temp_stats_2015.shp\")\n",
        "gdf_2025 = gpd.read_file(\"/content/drive/MyDrive/Colab Notebooks/dc-urban-heat/uhi_temp_stats_2025.shp\")\n",
        "\n",
        "# Ensure both are in WGS84\n",
        "gdf_2015 = gdf_2015.to_crs(epsg=4326)\n",
        "gdf_2025 = gdf_2025.to_crs(epsg=4326)\n",
        "\n",
        "# Merge and compute temperature change\n",
        "comparison = gdf_2015[[\"geometry\", \"mean\"]].copy()\n",
        "comparison = comparison.rename(columns={\"mean\": \"mean_2015\"})\n",
        "comparison[\"mean_2025\"] = gdf_2025[\"mean\"]\n",
        "comparison[\"temp_change\"] = comparison[\"mean_2025\"] - comparison[\"mean_2015\"]\n",
        "\n",
        "# Save comparison shapefile\n",
        "comparison_path = \"/content/drive/MyDrive/Colab Notebooks/dc-urban-heat/uhi_temp_change_2015_2025.shp\"\n",
        "comparison.to_file(comparison_path)\n",
        "print(f\"✅ Saved temp change shapefile to:\\n{comparison_path}\")\n"
      ]
    },
    {
      "cell_type": "code",
      "execution_count": null,
      "id": "a0e8f48d-0356-49c1-9f32-995d6ef551dd",
      "metadata": {
        "id": "a0e8f48d-0356-49c1-9f32-995d6ef551dd"
      },
      "outputs": [],
      "source": [
        "import leafmap\n",
        "import geopandas as gpd\n",
        "\n",
        "# Load comparison shapefile\n",
        "comparison = gpd.read_file(\"/content/drive/MyDrive/Colab Notebooks/dc-urban-heat/uhi_temp_change_2015_2025.shp\")\n",
        "comparison = comparison.to_crs(epsg=4326)\n",
        "comparison = comparison.dropna(subset=[\"mean_2015\", \"mean_2025\", \"temp_chang\"])\n",
        "\n",
        "# Initialize map\n",
        "m = leafmap.Map(center=[38.9, -77.0], zoom=12)\n",
        "\n",
        "# Add 2015 surface temperature\n",
        "m.add_data(\n",
        "    comparison,\n",
        "    column=\"mean_2015\",\n",
        "    cmap=\"YlOrRd\",\n",
        "    layer_name=\"LST 2015 (°C)\",\n",
        "    legend_title=\"2015 Mean Temp (°C)\",\n",
        "    style={\"weight\": 0.2, \"fillOpacity\": 0.6}\n",
        ")\n",
        "\n",
        "# Add 2025 surface temperature\n",
        "m.add_data(\n",
        "    comparison,\n",
        "    column=\"mean_2025\",\n",
        "    cmap=\"YlOrRd\",\n",
        "    layer_name=\"LST 2025 (°C)\",\n",
        "    legend_title=\"2025 Mean Temp (°C)\",\n",
        "    style={\"weight\": 0.2, \"fillOpacity\": 0.6}\n",
        ")\n",
        "\n",
        "# Add temperature change\n",
        "m.add_data(\n",
        "    comparison,\n",
        "    column=\"temp_chang\",\n",
        "    cmap=\"coolwarm\",\n",
        "    layer_name=\"Temp Change (°C)\",\n",
        "    legend_title=\"Temp Change (2025 - 2015 °C)\",\n",
        "    style={\"weight\": 0.2, \"fillOpacity\": 0.7}\n",
        ")\n",
        "\n",
        "# Add layer control\n",
        "m.add_layer_control()\n",
        "\n",
        "# Show the map\n",
        "m\n"
      ]
    },
    {
      "cell_type": "code",
      "execution_count": null,
      "id": "ed82a93f-992e-439a-81dc-553b0fad2c41",
      "metadata": {
        "id": "ed82a93f-992e-439a-81dc-553b0fad2c41"
      },
      "outputs": [],
      "source": [
        "# Save to HTML\n",
        "m.to_html(\"/content/drive/MyDrive/Colab Notebooks/dc-urban-heat/uhi_map.html\")\n",
        "print(\"✅ HTML map saved successfully!\")\n"
      ]
    },
    {
      "cell_type": "code",
      "execution_count": null,
      "id": "06895183-7086-41a5-b941-e50eeab287cf",
      "metadata": {
        "id": "06895183-7086-41a5-b941-e50eeab287cf"
      },
      "outputs": [],
      "source": [
        "from rasterstats import zonal_stats\n",
        "import geopandas as gpd\n",
        "import rasterio\n",
        "\n",
        "landcover_gdf = gpd.read_file(\"/content/drive/MyDrive/Colab Notebooks/dc-urban-heat/uhi_landcover_polygons.shp\")\n",
        "\n",
        "# --- 2015 ---\n",
        "with rasterio.open(\"/content/drive/MyDrive/Colab Notebooks/dc-urban-heat/lst_2015_fahrenheit.tif\") as src_2015:\n",
        "    landcover_2015 = landcover_gdf.to_crs(src_2015.crs)\n",
        "\n",
        "stats_2015_f = zonal_stats(\n",
        "    vectors=landcover_2015,\n",
        "    raster=\"/content/drive/MyDrive/Colab Notebooks/dc-urban-heat/lst_2015_fahrenheit.tif\",\n",
        "    stats=[\"mean\"],\n",
        "    geojson_out=True\n",
        ")\n",
        "\n",
        "gdf_2015_f = gpd.GeoDataFrame.from_features(stats_2015_f)\n",
        "gdf_2015_f.set_crs(src_2015.crs, inplace=True)\n",
        "gdf_2015_f.to_file(\"/content/drive/MyDrive/Colab Notebooks/dc-urban-heat/uhi_temp_stats_2015_f.shp\")\n",
        "\n",
        "# --- 2025 ---\n",
        "with rasterio.open(\"/content/drive/MyDrive/Colab Notebooks/dc-urban-heat//lst_2025_fahrenheit.tif\") as src_2025:\n",
        "    landcover_2025 = landcover_gdf.to_crs(src_2025.crs)\n",
        "\n",
        "stats_2025_f = zonal_stats(\n",
        "    vectors=landcover_2025,\n",
        "    raster=\"/content/drive/MyDrive/Colab Notebooks/dc-urban-heat/lst_2025_fahrenheit.tif\",\n",
        "    stats=[\"mean\"],\n",
        "    geojson_out=True\n",
        ")\n",
        "\n",
        "gdf_2025_f = gpd.GeoDataFrame.from_features(stats_2025_f)\n",
        "gdf_2025_f.set_crs(src_2025.crs, inplace=True)\n",
        "gdf_2025_f.to_file(\"/content/drive/MyDrive/Colab Notebooks/dc-urban-heat/uhi_temp_stats_2025_f.shp\")\n"
      ]
    },
    {
      "cell_type": "code",
      "execution_count": null,
      "id": "4ff29ac1-1ff0-4fc2-8719-ca3be5fbd014",
      "metadata": {
        "id": "4ff29ac1-1ff0-4fc2-8719-ca3be5fbd014"
      },
      "outputs": [],
      "source": [
        "gdf_2015_f = gpd.read_file(\"/content/drive/MyDrive/Colab Notebooks/dc-urban-heat/uhi_temp_stats_2015_f.shp\")\n",
        "gdf_2025_f = gpd.read_file(\"/content/drive/MyDrive/Colab Notebooks/dc-urban-heat/uhi_temp_stats_2025_f.shp\")\n",
        "\n",
        "# Continue with merge → map\n"
      ]
    },
    {
      "cell_type": "code",
      "execution_count": null,
      "id": "cfa73694-d792-4f11-8181-618ef47e29e7",
      "metadata": {
        "id": "cfa73694-d792-4f11-8181-618ef47e29e7"
      },
      "outputs": [],
      "source": [
        "import geopandas as gpd\n",
        "\n",
        "# Load zonal stats shapefiles (already created using Fahrenheit rasters)\n",
        "gdf_2015_f = gpd.read_file(\"/content/drive/MyDrive/Colab Notebooks/dc-urban-heat/uhi_temp_stats_2015_f.shp\")\n",
        "gdf_2025_f = gpd.read_file(\"/content/drive/MyDrive/Colab Notebooks/dc-urban-heat/uhi_temp_stats_2025_f.shp\")\n",
        "\n",
        "# Set CRS if not present\n",
        "if gdf_2015_f.crs is None:\n",
        "    gdf_2015_f.set_crs(epsg=32618, inplace=True)\n",
        "if gdf_2025_f.crs is None:\n",
        "    gdf_2025_f.set_crs(epsg=32618, inplace=True)\n",
        "\n",
        "# Reproject to WGS84\n",
        "gdf_2015_f = gdf_2015_f.to_crs(epsg=4326)\n",
        "gdf_2025_f = gdf_2025_f.to_crs(epsg=4326)\n",
        "\n",
        "# Merge and calculate temperature change\n",
        "comparison_f = gdf_2015_f[[\"geometry\", \"mean\"]].copy()\n",
        "comparison_f = comparison_f.rename(columns={\"mean\": \"mean_2015_f\"})\n",
        "comparison_f[\"mean_2025_f\"] = gdf_2025_f[\"mean\"]\n",
        "comparison_f[\"temp_change_f\"] = comparison_f[\"mean_2025_f\"] - comparison_f[\"mean_2015_f\"]\n",
        "\n",
        "# Save updated shapefile\n",
        "comparison_f.to_file(\"/content/drive/MyDrive/Colab Notebooks/dc-urban-heat/uhi_temp_change_2015_2025_fahrenheit.shp\")\n"
      ]
    },
    {
      "cell_type": "code",
      "execution_count": null,
      "id": "eeda6a31-ef12-40ba-8d6f-b2ab1fee91b2",
      "metadata": {
        "id": "eeda6a31-ef12-40ba-8d6f-b2ab1fee91b2"
      },
      "outputs": [],
      "source": [
        "import geopandas as gpd\n",
        "\n",
        "comparison = gpd.read_file(\"/content/drive/MyDrive/Colab Notebooks/dc-urban-heat/uhi_temp_change_2015_2025_fahrenheit.shp\")\n",
        "print(comparison.columns)\n"
      ]
    },
    {
      "cell_type": "code",
      "execution_count": null,
      "id": "585a1cb6-72e7-4022-8bfe-413d7b3eba38",
      "metadata": {
        "id": "585a1cb6-72e7-4022-8bfe-413d7b3eba38"
      },
      "outputs": [],
      "source": [
        "import geopandas as gpd\n",
        "import leafmap\n",
        "\n",
        "# Load and prepare data\n",
        "comparison = gpd.read_file(\"/content/drive/MyDrive/Colab Notebooks/dc-urban-heat/uhi_temp_change_2015_2025_fahrenheit.shp\")\n",
        "comparison = comparison.to_crs(epsg=4326)\n",
        "comparison_clean = comparison.dropna(subset=[\"mean_2015_\", \"mean_2025_\", \"temp_chang\"])\n",
        "\n",
        "# Initialize map\n",
        "m = leafmap.Map(center=[38.9, -77.0], zoom=12)\n",
        "\n",
        "# Add 2015 layer (°F)\n",
        "m.add_data(\n",
        "    comparison_clean,\n",
        "    column=\"mean_2015_\",\n",
        "    cmap=\"YlOrRd\",\n",
        "    layer_name=\"LST 2015 (°F)\",\n",
        "    legend_title=\"2015 Mean Surface Temp (°F)\",\n",
        "    style={\"weight\": 0.2, \"fillOpacity\": 0.6}\n",
        ")\n",
        "\n",
        "# Add 2025 layer (°F)\n",
        "m.add_data(\n",
        "    comparison_clean,\n",
        "    column=\"mean_2025_\",\n",
        "    cmap=\"YlOrRd\",\n",
        "    layer_name=\"LST 2025 (°F)\",\n",
        "    legend_title=\"2025 Mean Surface Temp (°F)\",\n",
        "    style={\"weight\": 0.2, \"fillOpacity\": 0.6}\n",
        ")\n",
        "\n",
        "# Add Temp Change layer (°F)\n",
        "m.add_data(\n",
        "    comparison_clean,\n",
        "    column=\"temp_chang\",\n",
        "    cmap=\"coolwarm\",\n",
        "    layer_name=\"Temp Change (°F)\",\n",
        "    legend_title=\"Temp Change (°F)\",\n",
        "    style={\"weight\": 0.2, \"fillOpacity\": 0.7}\n",
        ")\n",
        "\n",
        "m.add_data(\n",
        "    comparison_clean,\n",
        "    column=\"temp_chang\",\n",
        "    cmap=\"coolwarm\",\n",
        "    layer_name=\"Temp Change (°F)\",\n",
        "    legend_title=\"Temp Change (°F)\",\n",
        "    style={\"weight\": 0.2, \"fillOpacity\": 0.7},\n",
        "    legend_kw={\n",
        "        \"classes\": 6,\n",
        "        \"colorbar\": True\n",
        "    }\n",
        ")\n",
        "\n",
        "\n",
        "m.add_layer_control()\n",
        "m\n"
      ]
    },
    {
      "cell_type": "code",
      "execution_count": null,
      "id": "07a1b38a-a07c-49d1-b4db-b0cc60c89e31",
      "metadata": {
        "id": "07a1b38a-a07c-49d1-b4db-b0cc60c89e31"
      },
      "outputs": [],
      "source": []
    }
  ],
  "metadata": {
    "kernelspec": {
      "display_name": "Python 3",
      "name": "python3"
    },
    "language_info": {
      "name": "python"
    },
    "colab": {
      "provenance": [],
      "include_colab_link": true
    }
  },
  "nbformat": 4,
  "nbformat_minor": 5
}