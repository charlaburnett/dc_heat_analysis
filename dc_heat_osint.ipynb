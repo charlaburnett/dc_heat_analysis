{
  "nbformat": 4,
  "nbformat_minor": 0,
  "metadata": {
    "colab": {
      "provenance": [],
      "authorship_tag": "ABX9TyP2WTbLKB2C9qw9mLOdKBmX",
      "include_colab_link": true
    },
    "kernelspec": {
      "name": "python3",
      "display_name": "Python 3"
    },
    "language_info": {
      "name": "python"
    }
  },
  "cells": [
    {
      "cell_type": "markdown",
      "metadata": {
        "id": "view-in-github",
        "colab_type": "text"
      },
      "source": [
        "<a href=\"https://colab.research.google.com/github/charlaburnett/dc_heat_analysis/blob/main/dc_heat_osint.ipynb\" target=\"_parent\"><img src=\"https://colab.research.google.com/assets/colab-badge.svg\" alt=\"Open In Colab\"/></a>"
      ]
    },
    {
      "cell_type": "code",
      "execution_count": 1,
      "metadata": {
        "id": "9BEcgH_x_Trd"
      },
      "outputs": [],
      "source": [
        "#Geotag News Lookup"
      ]
    },
    {
      "cell_type": "code",
      "source": [
        "from google.colab import drive\n",
        "drive.mount('/content/drive')\n"
      ],
      "metadata": {
        "colab": {
          "base_uri": "https://localhost:8080/"
        },
        "id": "cuhWRT3lBCn5",
        "outputId": "70ff2fb7-1257-436c-aafb-6d6a65449d72"
      },
      "execution_count": 3,
      "outputs": [
        {
          "output_type": "stream",
          "name": "stdout",
          "text": [
            "Mounted at /content/drive\n"
          ]
        }
      ]
    },
    {
      "cell_type": "code",
      "source": [
        "from gnews import GNews\n",
        "gnews = GNews()\n",
        "gnews.language = 'en'\n",
        "gnews.country = 'US'\n",
        "gnews.max_results = 100\n",
        "\n",
        "query = '\"heat wave\" OR \"heat record\" \"Washington DC\" OR \"District of Columbia\"'\n",
        "news_data = gnews.get_news(query)\n"
      ],
      "metadata": {
        "id": "erYqipaQBFvu"
      },
      "execution_count": 16,
      "outputs": []
    },
    {
      "cell_type": "code",
      "source": [
        "def is_about_dc(article):\n",
        "    dc_keywords = [\"Washington, DC\", \"Washington DC\", \"District of Columbia\", \"D.C.\", \"the nation's capital\"]\n",
        "    text = (article.get(\"title\", \"\") + article.get(\"description\", \"\")).lower()\n",
        "    return any(k.lower() in text for k in dc_keywords)\n",
        "\n",
        "dc_articles = [a for a in news_data if is_about_dc(a)]\n"
      ],
      "metadata": {
        "id": "C3Ey0q7h_gpD"
      },
      "execution_count": 17,
      "outputs": []
    },
    {
      "cell_type": "code",
      "source": [
        "from geopy.geocoders import Nominatim\n",
        "geolocator = Nominatim(user_agent=\"dc_heat_geo\")\n",
        "\n",
        "coords = geolocator.geocode(\"Washington, DC\")\n",
        "latlon = (coords.latitude, coords.longitude)\n",
        "\n",
        "# Enrich each article with lat/lon\n",
        "for article in news_data:\n",
        "    article[\"latitude\"] = latlon[0]\n",
        "    article[\"longitude\"] = latlon[1]\n"
      ],
      "metadata": {
        "id": "WKRJ8e2S_t1a"
      },
      "execution_count": 18,
      "outputs": []
    },
    {
      "cell_type": "code",
      "source": [
        "from geopy.geocoders import Nominatim\n",
        "geolocator = Nominatim(user_agent=\"heat_dc_scraper\")\n",
        "\n",
        "coords = geolocator.geocode(\"Washington, DC\")\n",
        "latlon = (coords.latitude, coords.longitude)\n",
        "\n",
        "for article in dc_articles:\n",
        "    title = article.get(\"title\", \"N/A\")\n",
        "    pub_date = article.get(\"published date\", \"N/A\")\n",
        "    url = article.get(\"url\", \"N/A\")\n",
        "\n",
        "    print(f\"{title}\")\n",
        "    print(f\"{pub_date}\")\n",
        "    print(f\"{latlon}\")\n",
        "    print(f\"{url}\\n\")\n"
      ],
      "metadata": {
        "colab": {
          "base_uri": "https://localhost:8080/"
        },
        "id": "MmxsgCc-DwGF",
        "outputId": "b597ec8e-79ee-47ea-9de8-442dc0e94c7b"
      },
      "execution_count": 19,
      "outputs": [
        {
          "output_type": "stream",
          "name": "stdout",
          "text": [
            "D.C. faces brutal heat and humidity next week. Here’s how hot it could get. - The Washington Post\n",
            "Fri, 20 Jun 2025 07:00:00 GMT\n",
            "(38.8950368, -77.0365427)\n",
            "https://news.google.com/rss/articles/CBMifEFVX3lxTFBfbmVqYkdZQWRqOUw2T1VfWWd1dFFVZUNFR3V5VUxLQ1RpMjhzVDRkVUpxOUY3Tl9hZVh6cGw1S0F1RWgwY2p4b0tRWjZGZkZJTGxzaVZnc3BTS2NFMVY0dFhXS0M4aW1EU2RPLTd1OXdMWE1ENVNMMUNUUUg?oc=5&hl=en-US&gl=US&ceid=US:en\n",
            "\n",
            "D.C. sees another heat wave amid a drought watch - Axios\n",
            "Wed, 31 Jul 2024 07:00:00 GMT\n",
            "(38.8950368, -77.0365427)\n",
            "https://news.google.com/rss/articles/CBMiekFVX3lxTE9LLURha20teTN0TVlWYXdqY1U4RWhFSEdXVGpGRkNzZlBIU1NSMmxmNVdHUVdqTXA2MEdwN1QzdDNXdlBNdnFtRnc0TVhISmJSalVnV0NiNklfU1dGZVBpNGRPclpqVUR0aUdibG1aOU41RGZUTFMtVEFB?oc=5&hl=en-US&gl=US&ceid=US:en\n",
            "\n",
            "Washington, D.C., Endures Most Blistering Heat Wave in Nearly 100 Years - Newsweek\n",
            "Wed, 17 Jul 2024 07:00:00 GMT\n",
            "(38.8950368, -77.0365427)\n",
            "https://news.google.com/rss/articles/CBMijAFBVV95cUxOd0V1dDF3YmdWbFRJc3NBckVWUC1iX09OUnB1MkxwRk1CTzJsMFpGOEFFZjZyMk5yVG44WmVtT2RfbUpjOWpoaDRpdFRQQ1F4Vy14c3d3UWJWRkV3R09MNGNvTURJd3JTNlY5NkdZSjNyQ0hKcDNzbjBOTmExN3ZxNGxaVjVWcDhnTUhxeQ?oc=5&hl=en-US&gl=US&ceid=US:en\n",
            "\n",
            "Two Facts and a Fiction: Heat Wave - American University, Washington, D.C.\n",
            "Tue, 25 Jul 2023 07:00:00 GMT\n",
            "(38.8950368, -77.0365427)\n",
            "https://news.google.com/rss/articles/CBMidkFVX3lxTFB3emNxVVBiSzJLeXBDT1VBeXFKcDRHeGtMV2s5NG93UmRGUFNKLXdvVTlScG1KU1BHM2FSYzFldkgtLTVPM3k5VjFrRnNvam42Q0pLTlNWVHg4WWNCMFJkSkNDSFpSWVNpQUNpbDFiYlpQY1hBVUE?oc=5&hl=en-US&gl=US&ceid=US:en\n",
            "\n",
            "A heat wave is bringing searing temperatures to New York and the I-95 corridor. Washington DC has hit 100 degrees - CNN\n",
            "Sat, 22 Jun 2024 07:00:00 GMT\n",
            "(38.8950368, -77.0365427)\n",
            "https://news.google.com/rss/articles/CBMihgFBVV95cUxOZ0lqU09jNnV5VDZwOHZjWUxTZUtTUXRQUlBvY1JPN0pvZG0wN0RHNjBzNVpkUHdXRy1IZmUzQ0dobnQyV2NDamozWW9LOTZqOWVXU1AwTWd5bHVRZjhIZmEzWFM4a19LOVZnN0pYdjZnR3NRSy0wamxIbjJFclRjZThHczdud9IBiwFBVV95cUxNZW9KLXFtRV9QN1J5Z2h6bmFsUmhDZjJkS20zZC1HWWxFdEUyd2U1TTBPaV91em9KYzJGZWFWZmVHRHFleHpzdmVUOFRIcnFBTS1PczUzMEQ5dC04SHh6MFFGN0xuVDg5ZVFqallQUDBCMXotWDl3WDY3WmFMdS1NSm5ZQUJuUVlkOE5B?oc=5&hl=en-US&gl=US&ceid=US:en\n",
            "\n",
            "D.C. emergency declared as dangerous heat wave moves in - Axios\n",
            "Tue, 18 Jun 2024 07:00:00 GMT\n",
            "(38.8950368, -77.0365427)\n",
            "https://news.google.com/rss/articles/CBMikwFBVV95cUxQaXRNSjNMeDBDTzlfbllReFdqcVhEV3ZraVpXTW9jcjQ2SDJYYUNWczV5ZmdrZkc0MFRqb0NGYmpRMGlyVjhRSTFEY3A5YVBJQ3dtQko5SkNqSy1pN3h3SC1SaXdVckc5ZTYtX2MzTDNGakJEWkFqck9veHp6U3p2UzQzdnV5dnpVbFFoUHlnR1ltSzQ?oc=5&hl=en-US&gl=US&ceid=US:en\n",
            "\n",
            "D.C. forecast for near 100-degree temps mid-week - Axios\n",
            "Tue, 27 Aug 2024 07:00:00 GMT\n",
            "(38.8950368, -77.0365427)\n",
            "https://news.google.com/rss/articles/CBMikwFBVV95cUxOelMyYUE1bGp3Y3hfM01lclFULU5BQlFMVnZvUzJtbWd0cDF0Zkp5ZzQzaFdmWEJPS3pQd3ZJQTlGTTltWUlIWFA4ZTBYa1FydnU2WXc1TlBXdWZJRWVtNGVtSzNKVWRnTU5jRXdPX1RkemNmUmFuWksxRktDelBwSDFuUDUtaGFsMm05dmJ6LW9XQ1E?oc=5&hl=en-US&gl=US&ceid=US:en\n",
            "\n",
            "D.C. heat wave will peak this weekend with triple-digit temps - Axios\n",
            "Fri, 21 Jun 2024 07:00:00 GMT\n",
            "(38.8950368, -77.0365427)\n",
            "https://news.google.com/rss/articles/CBMigwFBVV95cUxPSVZwNWdOUU5YVHN0REFMeHdaQ1pjNGlmYTc3Mm9uS29tWEl0Z1AyUmk3SGFFM0tBbnZOMzRCWEpYSVk1TWd0VUZiYWwxc09EM3puNS15MThoaUY5a25YSDVlcm5WNGYteng0LTVoaThLWjZRTlNKWWhBaERtNldpLU4zSQ?oc=5&hl=en-US&gl=US&ceid=US:en\n",
            "\n",
            "D.C. braces for extreme humidity, heat — and high bills - Axios\n",
            "Wed, 18 Jun 2025 07:00:00 GMT\n",
            "(38.8950368, -77.0365427)\n",
            "https://news.google.com/rss/articles/CBMilAFBVV95cUxOeUNHOUhnTEI3Y3FTRTc2U2o0aFF3NVprWE9nODVQM3NZWVhHMF95YlJqR1J2alZTTkRfdC1LVG1VcUpNN19YTXpjWF9nR3ZGeEZHd1lRNE5GbHpvRVVYSU13dERqOW91M2Zzd3ZnMTVXTHB5WVYwb3RBb0UtdGRUQl9KVm5GbFBQVWREOHVvRDMxMzJR?oc=5&hl=en-US&gl=US&ceid=US:en\n",
            "\n",
            "Cool things to do in a D.C. heat wave - Axios\n",
            "Wed, 26 Jul 2023 07:00:00 GMT\n",
            "(38.8950368, -77.0365427)\n",
            "https://news.google.com/rss/articles/CBMihgFBVV95cUxNU25yRnlKZHE1Q3ZvR3NTMW82Zm91N244ZF9fQkJNTHhuV3YyOXgwNVliUl9UeVNkV0NxS2lxX2xRTFZOQTJhdnFMQTE5S2ZNSjJTMTBZRGVLVjZNTnNZbVZSRk52NnlLZkprTXhGbnpTdWZYWnIxODNqN2pzX190bU9GYjhBZw?oc=5&hl=en-US&gl=US&ceid=US:en\n",
            "\n",
            "Sunday to mark peak of dangerous heat wave from Boston to Washington, DC - AccuWeather\n",
            "Sun, 21 Jul 2019 07:00:00 GMT\n",
            "(38.8950368, -77.0365427)\n",
            "https://news.google.com/rss/articles/CBMiywFBVV95cUxQSDR3Zk56NUtjbUJoMGdDa2x5Y3ltQ0ZYb21YV3NBMXh2VUJ1Snl3NUlWaU54NEVLTk9uUy1RcVhIUXk1SkxpdVRhdFRVVnNqNmZQZ3QyUFEtNVJzdjh3UTdhbmZqUnRtYm5yNHU3TGpaLXFabzZKbXprRFF3VDZvaTh5T2lEbHlxanEyT2NvcWxPVlF6OUVnamplY2pwUlN6c2NJOENlRWNEOUlzWHNYWnBBa3lmdzFRNG8xUlQ3WGRoQmRCaHRMT3ctUQ?oc=5&hl=en-US&gl=US&ceid=US:en\n",
            "\n",
            "Wax statue of President Lincoln melts in sweltering heat of Washington, DC - FOX Weather\n",
            "Wed, 26 Jun 2024 07:00:00 GMT\n",
            "(38.8950368, -77.0365427)\n",
            "https://news.google.com/rss/articles/CBMioAFBVV95cUxQOWc4UG9mRWxSUk5TV092YVVxd1NaWHNVRy1IOVphVkFoaG1WUGxxbFlUU2RoVHJCSS03bUY0U0VMX2hJWWxQR2c5VXgxa0tvbGgxNlNlMEYzR21wNE1JcHo3SUhZTnNCMElXekl6MmF2QThXSEJ1cW1CM1IwM2hoV1RLaFZabmdWbzF6SUNsTUJCa19TRFp4X3EzeTZyVE5N0gGmAUFVX3lxTE1LVEdSZUl4ZkItUHRRTDJocXktSU40NmpZWmQtWVgtTlcyTnpWNGtVRVBEWTcwa3EyalZ2MlBEQ1o3QklQWkNnRGRsT0xkRFBMNmVHWnUzd1ZmcWxnWm1ESTBoV29NM0llTEJhZDBDb25MOWR5MGpPSzh5a09YY2VJWmtVTk9DTDVnX2FBSlBZNDhRcEExUUdhYm1rNmphTGZ3bDRtdmc?oc=5&hl=en-US&gl=US&ceid=US:en\n",
            "\n",
            "Washington D.C. Braces for Severe Weather, NWS Issues Alert for Thunderstorms and Heat Wave - Hoodline\n",
            "Wed, 18 Jun 2025 07:00:00 GMT\n",
            "(38.8950368, -77.0365427)\n",
            "https://news.google.com/rss/articles/CBMiuwFBVV95cUxQSmlXSlE5T3VIT2pwNzVoZmVLMEE5Y1F0Z2lZa1FhcnRJQzhTRDhaWUt3UllxeDFlUmxZeW9SM0t6eWVJcmtpX3JXamFsT01iWEtUTmZ5WG1ZaUdVM1UwT0ZIREt3Wk5rV0Zha1V3RzVudkVjWHhZTmhTMXlBNFRmZ1ZOWkZuMHA3eVpTenJvZ1Z4ejl1WldoakVQS1dEdHhaQlVrLWFOcVNkNk9TNXRwWTVKdE50S1VsWEZN?oc=5&hl=en-US&gl=US&ceid=US:en\n",
            "\n",
            "Wax Statue of Abraham Lincoln Literally Loses Its Head amid Soaring Heat Wave in D.C. - People.com\n",
            "Thu, 27 Jun 2024 07:00:00 GMT\n",
            "(38.8950368, -77.0365427)\n",
            "https://news.google.com/rss/articles/CBMinAFBVV95cUxOb0NEYUhManZTTnAwUFpvZThScmRBdTdGdXZaTjZmdGhmbjFNVmlweG1Jb2FPV2daR0xmMzFyVnFmQTVUc240bkpYSE9UNDh4OEFzWG0yRlpLZzhFLXJ4TW1KR3NPanhXZ012ZVNnRVVyUmpqQllZeno5ZnRNMkt5REFkaVhwclo1OHFNbml6M1dpTDhkQkszcnVsVUg?oc=5&hl=en-US&gl=US&ceid=US:en\n",
            "\n"
          ]
        }
      ]
    },
    {
      "cell_type": "code",
      "source": [
        "import import_ipynb\n",
        "import sys\n",
        "\n",
        "sys.path.append('/content/drive/MyDrive/Colab Notebooks')"
      ],
      "metadata": {
        "id": "UUieRqulFGZJ"
      },
      "execution_count": 33,
      "outputs": []
    },
    {
      "cell_type": "code",
      "source": [
        "prompt = \"\"\"You are an OSINT analyst reviewing reported heat wave events for the city of Washington, District of Columbia.\n",
        "The following headlines may relate to heat waves and erratic climate events.\n",
        "\n",
        "Your task is to:\n",
        "1. Identify trends related to heat waves, heat spots, and erratic climate events over the years,\n",
        "2. Group them by date,\n",
        "3. Indicate confidence level if details are unclear,\n",
        "4. Suggest whether any might explain observed heat increases.\n",
        "\n",
        "Headlines:\\n\\n\"\"\"\n",
        "\n",
        "for article in news_data:\n",
        "    title = article.get(\"title\", \"\")\n",
        "    date = article.get(\"published date\", \"\")[:10]\n",
        "    prompt += f\"- ({date}) {title}\\n\"\n"
      ],
      "metadata": {
        "id": "6cgLz6iqFkEJ"
      },
      "execution_count": 34,
      "outputs": []
    },
    {
      "cell_type": "code",
      "source": [
        "import geopandas as gpd\n",
        "\n",
        "gdf = gpd.read_file(\"/content/drive/MyDrive/Colab Notebooks/dc-urban-heat/uhi_temp_change_2015_2025_fahrenheit.shp\")\n",
        "\n",
        "summary = gdf[[\"temp_chang\", \"geometry\"]].sort_values(\"temp_chang\", ascending=False).head(10)\n",
        "\n",
        "heat_summary = \"Temperature Change Summary (Top 10):\\n\"\n",
        "for i, row in summary.iterrows():\n",
        "    heat_summary += f\"- Area {i + 1}: {round(row['temp_chang'], 2)}°F increase\\n\"\n"
      ],
      "metadata": {
        "id": "6y4uhjxfHrNp"
      },
      "execution_count": 44,
      "outputs": []
    },
    {
      "cell_type": "code",
      "source": [
        "from google.colab import drive\n",
        "drive.mount('/content/drive')\n",
        "\n",
        "import sys\n",
        "sys.path.append('/content/drive/MyDrive/Colab Notebooks')\n"
      ],
      "metadata": {
        "colab": {
          "base_uri": "https://localhost:8080/"
        },
        "id": "yrei_jjAI_-z",
        "outputId": "7237738e-57f1-4407-838a-5f4a7891e41a"
      },
      "execution_count": 48,
      "outputs": [
        {
          "output_type": "stream",
          "name": "stdout",
          "text": [
            "Drive already mounted at /content/drive; to attempt to forcibly remount, call drive.mount(\"/content/drive\", force_remount=True).\n"
          ]
        }
      ]
    },
    {
      "cell_type": "code",
      "source": [
        "# openai_key.py should contain:\n",
        "# import openai\n",
        "# openai.api_key = \"sk-...\"\n",
        "\n",
        "# gnews_key.py should contain:\n",
        "# GNEWS_API_KEY = \"your-gnews-api-key\"\n",
        "\n",
        "from openai_key import openai\n",
        "from gnews_key import GNEWS_API_KEY\n",
        "from openai import OpenAI\n",
        "\n"
      ],
      "metadata": {
        "id": "JSnGDZ8QjZ0l"
      },
      "execution_count": 49,
      "outputs": []
    },
    {
      "cell_type": "code",
      "source": [
        "from openai_key import openai\n",
        "from openai import OpenAI\n",
        "import pandas as pd\n",
        "\n",
        "client = OpenAI(api_key=openai.api_key)\n",
        "\n",
        "# Step 1: Build base OSINT analyst prompt\n",
        "prompt = \"\"\"You are an OSINT analyst reviewing reported heat wave events for the city of Washington, District of Columbia.\n",
        "\n",
        "Your task is to:\n",
        "1. Identify trends related to heat waves, heat spots, and erratic climate events over the years,\n",
        "2. Group them by date,\n",
        "3. Indicate confidence level if details are unclear,\n",
        "4. Suggest whether any might explain observed heat increases.\n",
        "\n",
        "Headlines:\\n\\n\"\"\"\n",
        "\n",
        "# Step 2: Append headlines from scraped news\n",
        "for article in news_data:\n",
        "    title = article.get(\"title\", \"\")\n",
        "    date = article.get(\"published date\", \"\")[:10]\n",
        "    prompt += f\"- ({date}) {title}\\n\"\n",
        "\n",
        "# Step 3: Append Urban Heat Island data summary\n",
        "prompt += \"\\nUrban Heat Island Temperature Change Summary (Top 10 Areas):\\n\"\n",
        "for i, row in summary.iterrows():\n",
        "    prompt += f\"- Area {i + 1}: {round(row['temp_chang'], 2)}°F increase\\n\"\n",
        "\n",
        "# Step 4: Final analytical instruction\n",
        "prompt += \"\"\"\n",
        "\n",
        "Based on the above news reports and heat data, analyze whether the headlines explain the spatial patterns of heat increase.\n",
        "Call out any temporal or geographic trends, inconsistencies, or missing coverage in the media.\n",
        "Provide insights useful for urban resilience planning.\n",
        "\"\"\"\n",
        "\n",
        "# Step 5: Call OpenAI with new client syntax\n",
        "response = client.chat.completions.create(\n",
        "    model=\"gpt-4\",\n",
        "    messages=[\n",
        "        {\n",
        "            \"role\": \"system\",\n",
        "            \"content\": \"You are an OSINT analyst focused on urban climate resilience.\"\n",
        "        },\n",
        "        {\n",
        "            \"role\": \"user\",\n",
        "            \"content\": prompt\n",
        "        }\n",
        "    ]\n",
        ")\n",
        "\n",
        "# Step 6: Output\n",
        "print(response.choices[0].message.content)\n"
      ],
      "metadata": {
        "colab": {
          "base_uri": "https://localhost:8080/"
        },
        "id": "njawaD05jca8",
        "outputId": "7b8f288d-26d5-4bd2-a8b3-2c185b12fbec"
      },
      "execution_count": 64,
      "outputs": [
        {
          "output_type": "stream",
          "name": "stdout",
          "text": [
            "Review of news headlines:\n",
            "The reported heat wave events predominantly occurred in the months of June (Ju) and July (Ju), supporting the normal seasonal pattern of summer heat waves. There were however some outliers with heatwaves reported in September (Se), August (Au), and even fall month of October (Oc). Headlines from a broad range of major news sources report an escalating pattern of severe heat waves during these months in Washington, D.C., characterized by extreme heat, humidity, and record-shattering temperatures. References to the heat wave being the \"first\", \"most blistering\", \"shattering record\", and \"hottest day in over a decade\" suggest an unprecedented surge in intensity over time.\n",
            "\n",
            "Based on headlines, there seems to be repeated heatwaves throughout the reported period, with wording hinting at severe heat conditions becoming the norm rather than an exception. Several headlines indicate that the city implemented emergency measures such as closure of the Washington Monument, activation of extreme heat alert, and increased use of cooling centers.\n",
            "\n",
            "There is a clear indication of public health risks due to the increased heat, with reports of missing persons during scorching temperatures, hospitalization, warnings to stay cool, and advisories of heat alerts. There were also reports of infrastructure impacts, such as strain on power grids and speed restrictions on Amtrak trains.\n",
            "\n",
            "Confidence Level: High. The repeated, diverse sources, and clear trend across multiple years lend to high confidence in the heatwave pattern.\n",
            "\n",
            "Analysis on Urban Heat Island Data:\n",
            "The Urban Heat Island Temperature Change Summary provides a detailed, quantitative view on the increase in temperature across specific areas in Washington, D.C. Areas with the most significant temperature increases exceed 60 degrees Fahrenheit. This data appears to track with headlines, supporting the idea of an escalating trend of heatwaves.\n",
            "\n",
            "Trends and Insights for Urban Resilience Planning:\n",
            "1. Temporal Trend: Heatwaves are becoming a recurrent issue, especially in the summer months, with some reports indicating that heatwaves are starting earlier (May) and ending later in the year (fall season - October). This suggests a lengthening heatwave season that may continue to exacerbate over the years.\n",
            "2. Geographic Trends: Certain areas in the city are experiencing more extreme heat increases, suggesting geographical disparity in heatwave impacts. This could be due to many factors including varying degrees of urbanization, vegetation cover, or population density.\n",
            "3. Heatwave Impact: Along with high temperatures, heatwaves have wider consequences from health risks, infrastructure strains, disrupted daily activity, to public inconvenience.\n",
            "4. Resilience Planning: More effective heatwave mitigation strategies are required for city-wide resilience. These could include increased tree plantation for natural cooling, energy-efficient urban planning, wider adaptation of cooling centers, and better heatwave alert systems to reach vulnerable communities effectively.\n",
            "5. Regular Analysis: Regular trend analysis and inclusion of additional data sources (satellite temperature data, population density, health records) will help in developing a more comprehensive understanding of the issue in the future.\n",
            "6. Media Coverage: The media plays a critical role in raising awareness about extreme heat events and safety measures, and their coverage should be factored into public education campaigns. \n",
            "\n",
            "Given this analysis, it's clear that the media headlines are aligned with the spatial patterns of heat increase in Washington, D.C. Their consistent highlights of extreme heat are reflective of the rising temperatures experienced across the city. However, more granular data would help in aligning specific events or conditions with specific geographical areas mentioned in the Urban Heat Island data.\n"
          ]
        }
      ]
    },
    {
      "cell_type": "code",
      "source": [
        "from census import Census\n",
        "import geopandas as gpd\n",
        "import pandas as pd\n",
        "import cenpy\n",
        "import os\n",
        "\n",
        "\n",
        "c = Census(os.environ[\"CENSUS_API_KEY\"])"
      ],
      "metadata": {
        "id": "voYyg0Aqoo-r"
      },
      "execution_count": 84,
      "outputs": []
    },
    {
      "cell_type": "code",
      "source": [
        "# B19013_001E = Median Household Income\n",
        "dc_income_data = c.acs5.state_county_tract(\n",
        "    fields=[\"B19013_001E\"],\n",
        "    state_fips=\"11\",      # Washington DC\n",
        "    county_fips=\"001\",\n",
        "    tract=\"*\",\n",
        "    year=2021\n",
        ")\n",
        "\n",
        "income_df = pd.DataFrame(dc_income_data)\n",
        "income_df.rename(columns={\"B19013_001E\": \"median_income\"}, inplace=True)\n",
        "\n",
        "income_df[\"GEOID\"] = income_df[\"state\"] + income_df[\"county\"] + income_df[\"tract\"]\n",
        "income_df = income_df[[\"GEOID\", \"median_income\"]].astype({\"median_income\": \"float\"})\n",
        "\n",
        "income_df.head()\n"
      ],
      "metadata": {
        "colab": {
          "base_uri": "https://localhost:8080/",
          "height": 206
        },
        "id": "E6fOFUdprCiu",
        "outputId": "af95c044-4493-4459-d79c-e99247f0d245"
      },
      "execution_count": 87,
      "outputs": [
        {
          "output_type": "execute_result",
          "data": {
            "text/plain": [
              "         GEOID  median_income\n",
              "0  11001000101       157276.0\n",
              "1  11001000102       166816.0\n",
              "2  11001000201   -666666666.0\n",
              "3  11001000202       161490.0\n",
              "4  11001000300       159714.0"
            ],
            "text/html": [
              "\n",
              "  <div id=\"df-dd1acce1-7426-4c79-890e-c7ec4d7c70e6\" class=\"colab-df-container\">\n",
              "    <div>\n",
              "<style scoped>\n",
              "    .dataframe tbody tr th:only-of-type {\n",
              "        vertical-align: middle;\n",
              "    }\n",
              "\n",
              "    .dataframe tbody tr th {\n",
              "        vertical-align: top;\n",
              "    }\n",
              "\n",
              "    .dataframe thead th {\n",
              "        text-align: right;\n",
              "    }\n",
              "</style>\n",
              "<table border=\"1\" class=\"dataframe\">\n",
              "  <thead>\n",
              "    <tr style=\"text-align: right;\">\n",
              "      <th></th>\n",
              "      <th>GEOID</th>\n",
              "      <th>median_income</th>\n",
              "    </tr>\n",
              "  </thead>\n",
              "  <tbody>\n",
              "    <tr>\n",
              "      <th>0</th>\n",
              "      <td>11001000101</td>\n",
              "      <td>157276.0</td>\n",
              "    </tr>\n",
              "    <tr>\n",
              "      <th>1</th>\n",
              "      <td>11001000102</td>\n",
              "      <td>166816.0</td>\n",
              "    </tr>\n",
              "    <tr>\n",
              "      <th>2</th>\n",
              "      <td>11001000201</td>\n",
              "      <td>-666666666.0</td>\n",
              "    </tr>\n",
              "    <tr>\n",
              "      <th>3</th>\n",
              "      <td>11001000202</td>\n",
              "      <td>161490.0</td>\n",
              "    </tr>\n",
              "    <tr>\n",
              "      <th>4</th>\n",
              "      <td>11001000300</td>\n",
              "      <td>159714.0</td>\n",
              "    </tr>\n",
              "  </tbody>\n",
              "</table>\n",
              "</div>\n",
              "    <div class=\"colab-df-buttons\">\n",
              "\n",
              "  <div class=\"colab-df-container\">\n",
              "    <button class=\"colab-df-convert\" onclick=\"convertToInteractive('df-dd1acce1-7426-4c79-890e-c7ec4d7c70e6')\"\n",
              "            title=\"Convert this dataframe to an interactive table.\"\n",
              "            style=\"display:none;\">\n",
              "\n",
              "  <svg xmlns=\"http://www.w3.org/2000/svg\" height=\"24px\" viewBox=\"0 -960 960 960\">\n",
              "    <path d=\"M120-120v-720h720v720H120Zm60-500h600v-160H180v160Zm220 220h160v-160H400v160Zm0 220h160v-160H400v160ZM180-400h160v-160H180v160Zm440 0h160v-160H620v160ZM180-180h160v-160H180v160Zm440 0h160v-160H620v160Z\"/>\n",
              "  </svg>\n",
              "    </button>\n",
              "\n",
              "  <style>\n",
              "    .colab-df-container {\n",
              "      display:flex;\n",
              "      gap: 12px;\n",
              "    }\n",
              "\n",
              "    .colab-df-convert {\n",
              "      background-color: #E8F0FE;\n",
              "      border: none;\n",
              "      border-radius: 50%;\n",
              "      cursor: pointer;\n",
              "      display: none;\n",
              "      fill: #1967D2;\n",
              "      height: 32px;\n",
              "      padding: 0 0 0 0;\n",
              "      width: 32px;\n",
              "    }\n",
              "\n",
              "    .colab-df-convert:hover {\n",
              "      background-color: #E2EBFA;\n",
              "      box-shadow: 0px 1px 2px rgba(60, 64, 67, 0.3), 0px 1px 3px 1px rgba(60, 64, 67, 0.15);\n",
              "      fill: #174EA6;\n",
              "    }\n",
              "\n",
              "    .colab-df-buttons div {\n",
              "      margin-bottom: 4px;\n",
              "    }\n",
              "\n",
              "    [theme=dark] .colab-df-convert {\n",
              "      background-color: #3B4455;\n",
              "      fill: #D2E3FC;\n",
              "    }\n",
              "\n",
              "    [theme=dark] .colab-df-convert:hover {\n",
              "      background-color: #434B5C;\n",
              "      box-shadow: 0px 1px 3px 1px rgba(0, 0, 0, 0.15);\n",
              "      filter: drop-shadow(0px 1px 2px rgba(0, 0, 0, 0.3));\n",
              "      fill: #FFFFFF;\n",
              "    }\n",
              "  </style>\n",
              "\n",
              "    <script>\n",
              "      const buttonEl =\n",
              "        document.querySelector('#df-dd1acce1-7426-4c79-890e-c7ec4d7c70e6 button.colab-df-convert');\n",
              "      buttonEl.style.display =\n",
              "        google.colab.kernel.accessAllowed ? 'block' : 'none';\n",
              "\n",
              "      async function convertToInteractive(key) {\n",
              "        const element = document.querySelector('#df-dd1acce1-7426-4c79-890e-c7ec4d7c70e6');\n",
              "        const dataTable =\n",
              "          await google.colab.kernel.invokeFunction('convertToInteractive',\n",
              "                                                    [key], {});\n",
              "        if (!dataTable) return;\n",
              "\n",
              "        const docLinkHtml = 'Like what you see? Visit the ' +\n",
              "          '<a target=\"_blank\" href=https://colab.research.google.com/notebooks/data_table.ipynb>data table notebook</a>'\n",
              "          + ' to learn more about interactive tables.';\n",
              "        element.innerHTML = '';\n",
              "        dataTable['output_type'] = 'display_data';\n",
              "        await google.colab.output.renderOutput(dataTable, element);\n",
              "        const docLink = document.createElement('div');\n",
              "        docLink.innerHTML = docLinkHtml;\n",
              "        element.appendChild(docLink);\n",
              "      }\n",
              "    </script>\n",
              "  </div>\n",
              "\n",
              "\n",
              "    <div id=\"df-5d2bff48-ffe7-4eaf-b13b-56a313528053\">\n",
              "      <button class=\"colab-df-quickchart\" onclick=\"quickchart('df-5d2bff48-ffe7-4eaf-b13b-56a313528053')\"\n",
              "                title=\"Suggest charts\"\n",
              "                style=\"display:none;\">\n",
              "\n",
              "<svg xmlns=\"http://www.w3.org/2000/svg\" height=\"24px\"viewBox=\"0 0 24 24\"\n",
              "     width=\"24px\">\n",
              "    <g>\n",
              "        <path d=\"M19 3H5c-1.1 0-2 .9-2 2v14c0 1.1.9 2 2 2h14c1.1 0 2-.9 2-2V5c0-1.1-.9-2-2-2zM9 17H7v-7h2v7zm4 0h-2V7h2v10zm4 0h-2v-4h2v4z\"/>\n",
              "    </g>\n",
              "</svg>\n",
              "      </button>\n",
              "\n",
              "<style>\n",
              "  .colab-df-quickchart {\n",
              "      --bg-color: #E8F0FE;\n",
              "      --fill-color: #1967D2;\n",
              "      --hover-bg-color: #E2EBFA;\n",
              "      --hover-fill-color: #174EA6;\n",
              "      --disabled-fill-color: #AAA;\n",
              "      --disabled-bg-color: #DDD;\n",
              "  }\n",
              "\n",
              "  [theme=dark] .colab-df-quickchart {\n",
              "      --bg-color: #3B4455;\n",
              "      --fill-color: #D2E3FC;\n",
              "      --hover-bg-color: #434B5C;\n",
              "      --hover-fill-color: #FFFFFF;\n",
              "      --disabled-bg-color: #3B4455;\n",
              "      --disabled-fill-color: #666;\n",
              "  }\n",
              "\n",
              "  .colab-df-quickchart {\n",
              "    background-color: var(--bg-color);\n",
              "    border: none;\n",
              "    border-radius: 50%;\n",
              "    cursor: pointer;\n",
              "    display: none;\n",
              "    fill: var(--fill-color);\n",
              "    height: 32px;\n",
              "    padding: 0;\n",
              "    width: 32px;\n",
              "  }\n",
              "\n",
              "  .colab-df-quickchart:hover {\n",
              "    background-color: var(--hover-bg-color);\n",
              "    box-shadow: 0 1px 2px rgba(60, 64, 67, 0.3), 0 1px 3px 1px rgba(60, 64, 67, 0.15);\n",
              "    fill: var(--button-hover-fill-color);\n",
              "  }\n",
              "\n",
              "  .colab-df-quickchart-complete:disabled,\n",
              "  .colab-df-quickchart-complete:disabled:hover {\n",
              "    background-color: var(--disabled-bg-color);\n",
              "    fill: var(--disabled-fill-color);\n",
              "    box-shadow: none;\n",
              "  }\n",
              "\n",
              "  .colab-df-spinner {\n",
              "    border: 2px solid var(--fill-color);\n",
              "    border-color: transparent;\n",
              "    border-bottom-color: var(--fill-color);\n",
              "    animation:\n",
              "      spin 1s steps(1) infinite;\n",
              "  }\n",
              "\n",
              "  @keyframes spin {\n",
              "    0% {\n",
              "      border-color: transparent;\n",
              "      border-bottom-color: var(--fill-color);\n",
              "      border-left-color: var(--fill-color);\n",
              "    }\n",
              "    20% {\n",
              "      border-color: transparent;\n",
              "      border-left-color: var(--fill-color);\n",
              "      border-top-color: var(--fill-color);\n",
              "    }\n",
              "    30% {\n",
              "      border-color: transparent;\n",
              "      border-left-color: var(--fill-color);\n",
              "      border-top-color: var(--fill-color);\n",
              "      border-right-color: var(--fill-color);\n",
              "    }\n",
              "    40% {\n",
              "      border-color: transparent;\n",
              "      border-right-color: var(--fill-color);\n",
              "      border-top-color: var(--fill-color);\n",
              "    }\n",
              "    60% {\n",
              "      border-color: transparent;\n",
              "      border-right-color: var(--fill-color);\n",
              "    }\n",
              "    80% {\n",
              "      border-color: transparent;\n",
              "      border-right-color: var(--fill-color);\n",
              "      border-bottom-color: var(--fill-color);\n",
              "    }\n",
              "    90% {\n",
              "      border-color: transparent;\n",
              "      border-bottom-color: var(--fill-color);\n",
              "    }\n",
              "  }\n",
              "</style>\n",
              "\n",
              "      <script>\n",
              "        async function quickchart(key) {\n",
              "          const quickchartButtonEl =\n",
              "            document.querySelector('#' + key + ' button');\n",
              "          quickchartButtonEl.disabled = true;  // To prevent multiple clicks.\n",
              "          quickchartButtonEl.classList.add('colab-df-spinner');\n",
              "          try {\n",
              "            const charts = await google.colab.kernel.invokeFunction(\n",
              "                'suggestCharts', [key], {});\n",
              "          } catch (error) {\n",
              "            console.error('Error during call to suggestCharts:', error);\n",
              "          }\n",
              "          quickchartButtonEl.classList.remove('colab-df-spinner');\n",
              "          quickchartButtonEl.classList.add('colab-df-quickchart-complete');\n",
              "        }\n",
              "        (() => {\n",
              "          let quickchartButtonEl =\n",
              "            document.querySelector('#df-5d2bff48-ffe7-4eaf-b13b-56a313528053 button');\n",
              "          quickchartButtonEl.style.display =\n",
              "            google.colab.kernel.accessAllowed ? 'block' : 'none';\n",
              "        })();\n",
              "      </script>\n",
              "    </div>\n",
              "\n",
              "    </div>\n",
              "  </div>\n"
            ],
            "application/vnd.google.colaboratory.intrinsic+json": {
              "type": "dataframe",
              "variable_name": "income_df",
              "summary": "{\n  \"name\": \"income_df\",\n  \"rows\": 206,\n  \"fields\": [\n    {\n      \"column\": \"GEOID\",\n      \"properties\": {\n        \"dtype\": \"string\",\n        \"num_unique_values\": 206,\n        \"samples\": [\n          \"11001000902\",\n          \"11001000702\",\n          \"11001010900\"\n        ],\n        \"semantic_type\": \"\",\n        \"description\": \"\"\n      }\n    },\n    {\n      \"column\": \"median_income\",\n      \"properties\": {\n        \"dtype\": \"number\",\n        \"std\": 92230049.00394589,\n        \"min\": -666666666.0,\n        \"max\": 250001.0,\n        \"num_unique_values\": 200,\n        \"samples\": [\n          176685.0,\n          237188.0,\n          52737.0\n        ],\n        \"semantic_type\": \"\",\n        \"description\": \"\"\n      }\n    }\n  ]\n}"
            }
          },
          "metadata": {},
          "execution_count": 87
        }
      ]
    },
    {
      "cell_type": "code",
      "source": [
        "!rm -rf dc_tracts dc_tracts.zip\n",
        "\n",
        "!wget -q https://www2.census.gov/geo/tiger/TIGER2021/TRACT/tl_2021_11_tract.zip -O dc_tracts.zip\n",
        "\n",
        "!unzip -q dc_tracts.zip -d dc_tracts\n",
        "\n",
        "!ls dc_tracts\n"
      ],
      "metadata": {
        "colab": {
          "base_uri": "https://localhost:8080/"
        },
        "id": "H9ZhcLhMr6ws",
        "outputId": "5ba44bd0-1e64-4a5d-f24d-170d663d96f6"
      },
      "execution_count": 92,
      "outputs": [
        {
          "output_type": "stream",
          "name": "stdout",
          "text": [
            "tl_2021_11_tract.cpg  tl_2021_11_tract.shp\t       tl_2021_11_tract.shx\n",
            "tl_2021_11_tract.dbf  tl_2021_11_tract.shp.ea.iso.xml\n",
            "tl_2021_11_tract.prj  tl_2021_11_tract.shp.iso.xml\n"
          ]
        }
      ]
    },
    {
      "cell_type": "code",
      "source": [
        "import geopandas as gpd\n",
        "\n",
        "tracts = gpd.read_file(\"dc_tracts/tl_2021_11_tract.shp\")\n",
        "tracts = tracts.to_crs(\"EPSG:4326\")\n",
        "tracts = tracts[[\"GEOID\", \"geometry\"]]\n"
      ],
      "metadata": {
        "id": "AQvZsEm4sMy5"
      },
      "execution_count": 93,
      "outputs": []
    },
    {
      "cell_type": "code",
      "source": [
        "gdf = gdf.to_crs(tracts.crs)\n",
        "\n",
        "gdf_with_geoids = gpd.sjoin(gdf, tracts, how=\"left\", predicate=\"intersects\")\n"
      ],
      "metadata": {
        "id": "YlcLNlmesXxr"
      },
      "execution_count": 94,
      "outputs": []
    },
    {
      "cell_type": "code",
      "source": [
        "merged = gdf_with_geoids.merge(income_df, on=\"GEOID\")"
      ],
      "metadata": {
        "id": "dREve3insaV0"
      },
      "execution_count": 95,
      "outputs": []
    },
    {
      "cell_type": "code",
      "source": [
        "import statsmodels.api as sm\n",
        "\n",
        "reg_df = merged.dropna(subset=[\"temp_chang\", \"median_income\"])\n",
        "\n",
        "X = reg_df[[\"median_income\"]]        # Independent variable\n",
        "X = sm.add_constant(X)               # Add intercept\n",
        "y = reg_df[\"temp_chang\"]             # Dependent variable: temperature change\n",
        "\n",
        "model = sm.OLS(y, X).fit()\n",
        "\n",
        "print(model.summary())\n"
      ],
      "metadata": {
        "colab": {
          "base_uri": "https://localhost:8080/"
        },
        "id": "905_tnW0sibF",
        "outputId": "111f1b3a-6df5-4015-b048-7fff8b25f4d9"
      },
      "execution_count": 98,
      "outputs": [
        {
          "output_type": "stream",
          "name": "stdout",
          "text": [
            "                            OLS Regression Results                            \n",
            "==============================================================================\n",
            "Dep. Variable:             temp_chang   R-squared:                       0.000\n",
            "Model:                            OLS   Adj. R-squared:                  0.000\n",
            "Method:                 Least Squares   F-statistic:                     2.531\n",
            "Date:                Sun, 20 Jul 2025   Prob (F-statistic):              0.112\n",
            "Time:                        02:39:02   Log-Likelihood:                -50047.\n",
            "No. Observations:               11466   AIC:                         1.001e+05\n",
            "Df Residuals:                   11464   BIC:                         1.001e+05\n",
            "Df Model:                           1                                         \n",
            "Covariance Type:            nonrobust                                         \n",
            "=================================================================================\n",
            "                    coef    std err          t      P>|t|      [0.025      0.975]\n",
            "---------------------------------------------------------------------------------\n",
            "const            -0.9572      0.186     -5.148      0.000      -1.322      -0.593\n",
            "median_income -1.505e-09   9.46e-10     -1.591      0.112   -3.36e-09     3.5e-10\n",
            "==============================================================================\n",
            "Omnibus:                     3640.207   Durbin-Watson:                   1.007\n",
            "Prob(Omnibus):                  0.000   Jarque-Bera (JB):            13744.368\n",
            "Skew:                          -1.557   Prob(JB):                         0.00\n",
            "Kurtosis:                       7.367   Cond. No.                     2.06e+08\n",
            "==============================================================================\n",
            "\n",
            "Notes:\n",
            "[1] Standard Errors assume that the covariance matrix of the errors is correctly specified.\n",
            "[2] The condition number is large, 2.06e+08. This might indicate that there are\n",
            "strong multicollinearity or other numerical problems.\n"
          ]
        }
      ]
    },
    {
      "cell_type": "code",
      "source": [
        "import io\n",
        "\n",
        "regression_output = io.StringIO()\n",
        "print(model.summary(), file=regression_output)\n",
        "regression_text = regression_output.getvalue()\n",
        "\n"
      ],
      "metadata": {
        "id": "M8hGSalQskvn"
      },
      "execution_count": 99,
      "outputs": []
    },
    {
      "cell_type": "code",
      "source": [
        "prompt += \"\"\"\n",
        "\n",
        "The following regression analysis examines whether household income correlates with heat increase:\n",
        "\n",
        "Regression Summary:\n",
        "--------------------\n",
        "\"\"\" + regression_text + \"\"\"\n",
        "\n",
        "Please interpret the regression. Specifically:\n",
        "- Is income statistically significantly associated with heat increase?\n",
        "- What does the coefficient direction and magnitude suggest?\n",
        "- Why might R-squared be low?\n",
        "- Do results support the hypothesis that low-income areas experience more heat gain?\n",
        "- Suggest follow-up statistical or spatial analyses that could improve insight.\n",
        "\"\"\"\n"
      ],
      "metadata": {
        "id": "Jjcr9BWKsq5d"
      },
      "execution_count": 100,
      "outputs": []
    },
    {
      "cell_type": "code",
      "source": [
        "response = client.chat.completions.create(\n",
        "    model=\"gpt-4\",\n",
        "    messages=[\n",
        "        {\n",
        "            \"role\": \"system\",\n",
        "            \"content\": \"You are an OSINT analyst focused on urban climate resilience.\"\n",
        "        },\n",
        "        {\n",
        "            \"role\": \"user\",\n",
        "            \"content\": prompt\n",
        "        }\n",
        "    ]\n",
        ")\n",
        "\n",
        "print(response.choices[0].message.content)\n"
      ],
      "metadata": {
        "colab": {
          "base_uri": "https://localhost:8080/"
        },
        "id": "qxTAK1EltFQG",
        "outputId": "cb004629-f58e-4d17-cb8c-1bc1a3445812"
      },
      "execution_count": 101,
      "outputs": [
        {
          "output_type": "stream",
          "name": "stdout",
          "text": [
            "The headlines collected indicate that Washington D.C. experienced multiple significant heatwaves throughout the summer period, with record-breaking temperatures and emergency declarations across various dates in July. It's also updated that the extreme heat persisted through late August and into early September, breaking all-time records into October. \n",
            "\n",
            "The severity of the heatwaves ranges from extreme heat warnings with a heat index of 110 degrees to temperatures hitting the 100-degree mark. The heatwave's longevity is also alarming as one of the headlines indicates that a heatwave was the longest and strongest of the summer (so far) on July 18, with another headline documenting the end of D.C’s third hottest summer on September 3.\n",
            "\n",
            "Urban Heat Island Temperature Change data presented shows extremely high heat increases in certain areas in Washington D.C., with the highest increase recorded as 63.52°F. However, it's unclear if there is a specific geographic pattern or trend in these top 10 areas experiencing the highest temperature rises.\n",
            "\n",
            "Now, regarding the regression analysis:\n",
            "\n",
            "1. The p-value for 'median_income' is 0.112, which is more than the commonly used threshold of 0.05. Thus, we cannot say that income is statistically significantly associated with heat increase.\n",
            "\n",
            "2. The coefficient for 'median_income' is negative (-1.505e-09). This suggests that for every unit increase in median_income, the temperature change decreases by -1.505e-09. \n",
            "\n",
            "3. The R-squared value is 0, which means that none of the variability in the 'temp_change' can be explained by 'median_income' according to the model. This may be because income is not a determinant of heat increase, or other factors are stronger determinants and are overshadowing the effect of income. \n",
            "\n",
            "4. Given the statistical insignificance and negative direction of the coefficient, the results do not support the hypothesis that lower-income areas experience more heat gain.\n",
            "\n",
            "For further analysis, additional data could be collected on factors that might contribute to the Urban Heat Island effect, like the proportion of green spaces, the type of buildings present in the areas and the number of industrial units, among others. A Multiple Linear Regression model could then be fitted to determine if these factors significantly impact heat increase. Further, a spatial analysis could provide important insights into whether certain geographical features of the city are associated with increased temperatures. Moreover, a time-series analysis might help identify whether there is a specific trend or pattern in the occurrence and severity of heatwaves over time.\n"
          ]
        }
      ]
    },
    {
      "cell_type": "code",
      "source": [],
      "metadata": {
        "id": "_czEe-1ttH0h"
      },
      "execution_count": null,
      "outputs": []
    }
  ]
}